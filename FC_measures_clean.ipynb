{
 "cells": [
  {
   "cell_type": "markdown",
   "metadata": {},
   "source": [
    "# Functional Connectivity Measures\n",
    "This notebook contains vector-optimized Python 3 implementations of various Functional Connectivity Measures used in brain research, economy and other fields.\n",
    "\n",
    "This material has been created as a part of **Aspects of Neuroscience Brainhack 2017** project.\n",
    "Original GitHub repo for the project can be found here:\n",
    "https://github.com/cryptofan/FunctionalConnectivity_AoNBrainhackWarsaw"
   ]
  },
  {
   "cell_type": "markdown",
   "metadata": {},
   "source": [
    "* #### Import libs"
   ]
  },
  {
   "cell_type": "code",
   "execution_count": 1,
   "metadata": {
    "collapsed": true
   },
   "outputs": [],
   "source": [
    "import numpy as np"
   ]
  },
  {
   "cell_type": "markdown",
   "metadata": {},
   "source": [
    "## Measures\n",
    "### 1. Euclidean Distance\n",
    "* Euclidean distance in $n$ dimensional space is defined as:\n",
    "\n",
    "<br>\n",
    "$$distance(p, q) = \\sqrt{\\sum_{i=1}^n (p_i - q_i)^2}$$\n",
    "\n",
    "* It is also known as ***euclidean norm*** or $L^2$ ***norm***"
   ]
  },
  {
   "cell_type": "code",
   "execution_count": 2,
   "metadata": {
    "collapsed": true
   },
   "outputs": [],
   "source": [
    "def euclidean_distance(x,y):\n",
    "    \"\"\"Returns euclidean distance between two lists or numpy arrays\"\"\"\n",
    "    x = np.array(x)\n",
    "    y = np.array(y)\n",
    "    return np.sqrt(sum((x-y)**2))"
   ]
  },
  {
   "cell_type": "markdown",
   "metadata": {},
   "source": [
    "### 2. Manhattan Distance\n",
    "* Manhattan distance in $n$ dimensional space is defined as:\n",
    "\n",
    "<br>\n",
    "$$distance(p, q) = \\sum_{i=1}^n |p_i - q_i|$$\n",
    "\n",
    "* Manhattan distance is also known as ***taxicab metric*** or $\\ell_1$ ***norm***"
   ]
  },
  {
   "cell_type": "code",
   "execution_count": 3,
   "metadata": {
    "collapsed": true
   },
   "outputs": [],
   "source": [
    "def manhattan_distance(x, y):\n",
    "    \"\"\"Returns manhattan distance between two lists or numpy arrays\"\"\"\n",
    "    x = np.array(x)\n",
    "    y = np.array(y)\n",
    "    return sum(abs(x - y))"
   ]
  },
  {
   "cell_type": "markdown",
   "metadata": {},
   "source": [
    "### 3. Pearson Correlation\n",
    "\n",
    "## *To be continued...*"
   ]
  }
 ],
 "metadata": {
  "kernelspec": {
   "display_name": "Python 3",
   "language": "python",
   "name": "python3"
  },
  "language_info": {
   "codemirror_mode": {
    "name": "ipython",
    "version": 3
   },
   "file_extension": ".py",
   "mimetype": "text/x-python",
   "name": "python",
   "nbconvert_exporter": "python",
   "pygments_lexer": "ipython3",
   "version": "3.6.0"
  }
 },
 "nbformat": 4,
 "nbformat_minor": 2
}
